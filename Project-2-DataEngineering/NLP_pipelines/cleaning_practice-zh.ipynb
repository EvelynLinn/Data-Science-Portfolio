{
 "cells": [
  {
   "cell_type": "markdown",
   "metadata": {},
   "source": [
    "# 清洗练习：优达学城课程目录\n",
    "轮到你了！优达学城的 [全部课程](https://www.udacity.com/courses/all) 页面在上个视频拍摄后更新了。一个重大的更新是添加了 _学院_ 的介绍。\n",
    "\n",
    "在这个任务中，你要实现类似的操作，用 BeautifulSoup 从网页上列出的每个课程提取信息：\n",
    "1.课程名，例如 \"数据分析师\"（Data Analyst）。\n",
    "2.课程所属的学院，例如 \"数据科学学院\"（School of Data Science）。\n",
    "\n",
    "**注意：所有的解决方案notebook都可以通过点击工作环境左上角的 Jupyter 图标找到。**"
   ]
  },
  {
   "cell_type": "markdown",
   "metadata": {},
   "source": [
    "### 第一步: 从网页获取文本\n",
    "你可以使用 `requests` 库来实现。"
   ]
  },
  {
   "cell_type": "code",
   "execution_count": null,
   "metadata": {},
   "outputs": [],
   "source": [
    "# import statements\n"
   ]
  },
  {
   "cell_type": "code",
   "execution_count": null,
   "metadata": {},
   "outputs": [],
   "source": [
    "# fetch web page\n",
    "r = "
   ]
  },
  {
   "cell_type": "markdown",
   "metadata": {},
   "source": [
    "### 第二步: 使用 BeautifulSoup 移除 HTML tags\n",
    "使用 `\"lxml\"` 而不是 `\"html5lib\"`。"
   ]
  },
  {
   "cell_type": "code",
   "execution_count": null,
   "metadata": {},
   "outputs": [],
   "source": [
    "soup = "
   ]
  },
  {
   "cell_type": "markdown",
   "metadata": {},
   "source": [
    "### 第三步: 找到所有课程 summaries\n",
    "使用 BeautifulSoup 的 `find_all` 方法来根据标签类型或类名进行选择。正如视频中所说，你可以在页面上的元素上单击右键，再点击 \"检查元素 (Inspect)\" 以查看它的 HTML 代码。"
   ]
  },
  {
   "cell_type": "code",
   "execution_count": null,
   "metadata": {},
   "outputs": [],
   "source": [
    "# Find all course summaries\n",
    "summaries = \n",
    "print('Number of Courses:', len(summaries))"
   ]
  },
  {
   "cell_type": "markdown",
   "metadata": {},
   "source": [
    "### 第四步: 检视第一个 summary，找到包括课程名称和学院名称的选择器 \n",
    "提示：`.prettify()` 是 BeautifulSoup 提供的一个非常有用的方法，可以将 HTML 以缩进的方法显示出来。使用 `print()` 确保空白字符显示正常。"
   ]
  },
  {
   "cell_type": "code",
   "execution_count": null,
   "metadata": {},
   "outputs": [],
   "source": [
    "# print the first summary in summaries\n"
   ]
  },
  {
   "cell_type": "markdown",
   "metadata": {},
   "source": [
    "找到包含你要提取的课程名称和学院名称的选择器 (selectors) 。然后，对 summary 对象使用 `select_one` 方法，将带有这些选择器的 HTML 片段提取出来。之后，别忘了再做一些清洗将名称保留下来（删除不必要的 HTML），在上个视频中你了解过这一过程。"
   ]
  },
  {
   "cell_type": "code",
   "execution_count": null,
   "metadata": {},
   "outputs": [],
   "source": [
    "# Extract course title\n"
   ]
  },
  {
   "cell_type": "code",
   "execution_count": null,
   "metadata": {},
   "outputs": [],
   "source": [
    "# Extract school\n"
   ]
  },
  {
   "cell_type": "markdown",
   "metadata": {},
   "source": [
    "### 第五步：提取所有课程的名称\n",
    "重用你上一步的代码，但是现在是循环从每个 `summaries` 的课程总结中提取这些课程和学院的名称。"
   ]
  },
  {
   "cell_type": "code",
   "execution_count": null,
   "metadata": {},
   "outputs": [],
   "source": [
    "courses = []\n",
    "for summary in summaries:\n",
    "    # append name and school of each summary to courses list\n"
   ]
  },
  {
   "cell_type": "code",
   "execution_count": null,
   "metadata": {},
   "outputs": [],
   "source": [
    "# display results\n",
    "print(len(courses), \"course summaries found. Sample:\")\n",
    "courses[:20]"
   ]
  }
 ],
 "metadata": {
  "kernelspec": {
   "display_name": "Python 3",
   "language": "python",
   "name": "python3"
  },
  "language_info": {
   "codemirror_mode": {
    "name": "ipython",
    "version": 3
   },
   "file_extension": ".py",
   "mimetype": "text/x-python",
   "name": "python",
   "nbconvert_exporter": "python",
   "pygments_lexer": "ipython3",
   "version": "3.6.3"
  }
 },
 "nbformat": 4,
 "nbformat_minor": 2
}
