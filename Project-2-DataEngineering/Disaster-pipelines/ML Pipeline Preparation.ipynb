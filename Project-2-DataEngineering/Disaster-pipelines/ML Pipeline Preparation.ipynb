{
 "cells": [
  {
   "cell_type": "markdown",
   "metadata": {},
   "source": [
    "# ML Pipeline Preparation\n",
    "Follow the instructions below to help you create your ML pipeline.\n",
    "### 1. Import libraries and load data from database.\n",
    "- Import Python libraries\n",
    "- Load dataset from database with [`read_sql_table`](https://pandas.pydata.org/pandas-docs/stable/generated/pandas.read_sql_table.html)\n",
    "- Define feature and target variables X and Y"
   ]
  },
  {
   "cell_type": "code",
   "execution_count": 1,
   "metadata": {},
   "outputs": [],
   "source": [
    "# General libraries\n",
    "import re\n",
    "import numpy as np\n",
    "import pandas as pd\n",
    "import sqlalchemy\n",
    "from sqlalchemy import  create_engine\n",
    "# NLTK libraries\n",
    "from nltk.tokenize import sent_tokenize, word_tokenize\n",
    "from nltk.stem import WordNetLemmatizer\n",
    "from nltk.corpus import stopwords\n",
    "# Scikit-learn libraries\n",
    "from sklearn.multioutput import MultiOutputClassifier\n",
    "from sklearn.neighbors import KNeighborsClassifier\n",
    "from sklearn.metrics import classification_report\n",
    "from sklearn.metrics import confusion_matrix\n",
    "from sklearn.ensemble import RandomForestClassifier\n",
    "from sklearn.model_selection import train_test_split\n",
    "from sklearn.pipeline import Pipeline, FeatureUnion\n",
    "from sklearn.base import BaseEstimator, TransformerMixin\n",
    "from sklearn.feature_extraction.text import CountVectorizer, TfidfTransformer, TfidfVectorizer\n",
    "from sklearn.model_selection import GridSearchCV\n",
    "import pickle"
   ]
  },
  {
   "cell_type": "code",
   "execution_count": 2,
   "metadata": {
    "scrolled": true
   },
   "outputs": [
    {
     "data": {
      "text/html": [
       "<div>\n",
       "<style scoped>\n",
       "    .dataframe tbody tr th:only-of-type {\n",
       "        vertical-align: middle;\n",
       "    }\n",
       "\n",
       "    .dataframe tbody tr th {\n",
       "        vertical-align: top;\n",
       "    }\n",
       "\n",
       "    .dataframe thead th {\n",
       "        text-align: right;\n",
       "    }\n",
       "</style>\n",
       "<table border=\"1\" class=\"dataframe\">\n",
       "  <thead>\n",
       "    <tr style=\"text-align: right;\">\n",
       "      <th></th>\n",
       "      <th>id</th>\n",
       "      <th>message</th>\n",
       "      <th>original</th>\n",
       "      <th>genre</th>\n",
       "      <th>related</th>\n",
       "      <th>request</th>\n",
       "      <th>offer</th>\n",
       "      <th>aid_related</th>\n",
       "      <th>medical_help</th>\n",
       "      <th>medical_products</th>\n",
       "      <th>...</th>\n",
       "      <th>aid_centers</th>\n",
       "      <th>other_infrastructure</th>\n",
       "      <th>weather_related</th>\n",
       "      <th>floods</th>\n",
       "      <th>storm</th>\n",
       "      <th>fire</th>\n",
       "      <th>earthquake</th>\n",
       "      <th>cold</th>\n",
       "      <th>other_weather</th>\n",
       "      <th>direct_report</th>\n",
       "    </tr>\n",
       "  </thead>\n",
       "  <tbody>\n",
       "    <tr>\n",
       "      <th>0</th>\n",
       "      <td>2</td>\n",
       "      <td>Weather update - a cold front from Cuba that c...</td>\n",
       "      <td>Un front froid se retrouve sur Cuba ce matin. ...</td>\n",
       "      <td>direct</td>\n",
       "      <td>1</td>\n",
       "      <td>0</td>\n",
       "      <td>0</td>\n",
       "      <td>0</td>\n",
       "      <td>0</td>\n",
       "      <td>0</td>\n",
       "      <td>...</td>\n",
       "      <td>0</td>\n",
       "      <td>0</td>\n",
       "      <td>0</td>\n",
       "      <td>0</td>\n",
       "      <td>0</td>\n",
       "      <td>0</td>\n",
       "      <td>0</td>\n",
       "      <td>0</td>\n",
       "      <td>0</td>\n",
       "      <td>0</td>\n",
       "    </tr>\n",
       "    <tr>\n",
       "      <th>1</th>\n",
       "      <td>7</td>\n",
       "      <td>Is the Hurricane over or is it not over</td>\n",
       "      <td>Cyclone nan fini osinon li pa fini</td>\n",
       "      <td>direct</td>\n",
       "      <td>1</td>\n",
       "      <td>0</td>\n",
       "      <td>0</td>\n",
       "      <td>1</td>\n",
       "      <td>0</td>\n",
       "      <td>0</td>\n",
       "      <td>...</td>\n",
       "      <td>0</td>\n",
       "      <td>0</td>\n",
       "      <td>1</td>\n",
       "      <td>0</td>\n",
       "      <td>1</td>\n",
       "      <td>0</td>\n",
       "      <td>0</td>\n",
       "      <td>0</td>\n",
       "      <td>0</td>\n",
       "      <td>0</td>\n",
       "    </tr>\n",
       "    <tr>\n",
       "      <th>2</th>\n",
       "      <td>8</td>\n",
       "      <td>Looking for someone but no name</td>\n",
       "      <td>Patnm, di Maryani relem pou li banm nouvel li ...</td>\n",
       "      <td>direct</td>\n",
       "      <td>1</td>\n",
       "      <td>0</td>\n",
       "      <td>0</td>\n",
       "      <td>0</td>\n",
       "      <td>0</td>\n",
       "      <td>0</td>\n",
       "      <td>...</td>\n",
       "      <td>0</td>\n",
       "      <td>0</td>\n",
       "      <td>0</td>\n",
       "      <td>0</td>\n",
       "      <td>0</td>\n",
       "      <td>0</td>\n",
       "      <td>0</td>\n",
       "      <td>0</td>\n",
       "      <td>0</td>\n",
       "      <td>0</td>\n",
       "    </tr>\n",
       "    <tr>\n",
       "      <th>3</th>\n",
       "      <td>9</td>\n",
       "      <td>UN reports Leogane 80-90 destroyed. Only Hospi...</td>\n",
       "      <td>UN reports Leogane 80-90 destroyed. Only Hospi...</td>\n",
       "      <td>direct</td>\n",
       "      <td>1</td>\n",
       "      <td>1</td>\n",
       "      <td>0</td>\n",
       "      <td>1</td>\n",
       "      <td>0</td>\n",
       "      <td>1</td>\n",
       "      <td>...</td>\n",
       "      <td>0</td>\n",
       "      <td>0</td>\n",
       "      <td>0</td>\n",
       "      <td>0</td>\n",
       "      <td>0</td>\n",
       "      <td>0</td>\n",
       "      <td>0</td>\n",
       "      <td>0</td>\n",
       "      <td>0</td>\n",
       "      <td>0</td>\n",
       "    </tr>\n",
       "    <tr>\n",
       "      <th>4</th>\n",
       "      <td>12</td>\n",
       "      <td>says: west side of Haiti, rest of the country ...</td>\n",
       "      <td>facade ouest d Haiti et le reste du pays aujou...</td>\n",
       "      <td>direct</td>\n",
       "      <td>1</td>\n",
       "      <td>0</td>\n",
       "      <td>0</td>\n",
       "      <td>0</td>\n",
       "      <td>0</td>\n",
       "      <td>0</td>\n",
       "      <td>...</td>\n",
       "      <td>0</td>\n",
       "      <td>0</td>\n",
       "      <td>0</td>\n",
       "      <td>0</td>\n",
       "      <td>0</td>\n",
       "      <td>0</td>\n",
       "      <td>0</td>\n",
       "      <td>0</td>\n",
       "      <td>0</td>\n",
       "      <td>0</td>\n",
       "    </tr>\n",
       "  </tbody>\n",
       "</table>\n",
       "<p>5 rows × 40 columns</p>\n",
       "</div>"
      ],
      "text/plain": [
       "   id                                            message  \\\n",
       "0   2  Weather update - a cold front from Cuba that c...   \n",
       "1   7            Is the Hurricane over or is it not over   \n",
       "2   8                    Looking for someone but no name   \n",
       "3   9  UN reports Leogane 80-90 destroyed. Only Hospi...   \n",
       "4  12  says: west side of Haiti, rest of the country ...   \n",
       "\n",
       "                                            original   genre  related  \\\n",
       "0  Un front froid se retrouve sur Cuba ce matin. ...  direct        1   \n",
       "1                 Cyclone nan fini osinon li pa fini  direct        1   \n",
       "2  Patnm, di Maryani relem pou li banm nouvel li ...  direct        1   \n",
       "3  UN reports Leogane 80-90 destroyed. Only Hospi...  direct        1   \n",
       "4  facade ouest d Haiti et le reste du pays aujou...  direct        1   \n",
       "\n",
       "   request  offer  aid_related  medical_help  medical_products  ...  \\\n",
       "0        0      0            0             0                 0  ...   \n",
       "1        0      0            1             0                 0  ...   \n",
       "2        0      0            0             0                 0  ...   \n",
       "3        1      0            1             0                 1  ...   \n",
       "4        0      0            0             0                 0  ...   \n",
       "\n",
       "   aid_centers  other_infrastructure  weather_related  floods  storm  fire  \\\n",
       "0            0                     0                0       0      0     0   \n",
       "1            0                     0                1       0      1     0   \n",
       "2            0                     0                0       0      0     0   \n",
       "3            0                     0                0       0      0     0   \n",
       "4            0                     0                0       0      0     0   \n",
       "\n",
       "   earthquake  cold  other_weather  direct_report  \n",
       "0           0     0              0              0  \n",
       "1           0     0              0              0  \n",
       "2           0     0              0              0  \n",
       "3           0     0              0              0  \n",
       "4           0     0              0              0  \n",
       "\n",
       "[5 rows x 40 columns]"
      ]
     },
     "execution_count": 2,
     "metadata": {},
     "output_type": "execute_result"
    }
   ],
   "source": [
    "# load data from database\n",
    "engine = create_engine('sqlite:///etl_pipeline.db')\n",
    "df = pd.read_sql_table('etl_pipeline', con=engine) \n",
    "df.head()"
   ]
  },
  {
   "cell_type": "code",
   "execution_count": 3,
   "metadata": {},
   "outputs": [
    {
     "data": {
      "text/plain": [
       "'Is the Hurricane over or is it not over'"
      ]
     },
     "execution_count": 3,
     "metadata": {},
     "output_type": "execute_result"
    }
   ],
   "source": [
    "df['message'][1]"
   ]
  },
  {
   "cell_type": "code",
   "execution_count": 4,
   "metadata": {
    "scrolled": true
   },
   "outputs": [
    {
     "data": {
      "text/plain": [
       "array([1, 0, 2])"
      ]
     },
     "execution_count": 4,
     "metadata": {},
     "output_type": "execute_result"
    }
   ],
   "source": [
    "df['related'].unique()"
   ]
  },
  {
   "cell_type": "code",
   "execution_count": 5,
   "metadata": {
    "scrolled": true
   },
   "outputs": [
    {
     "data": {
      "text/plain": [
       "0    26216\n",
       "Name: child_alone, dtype: int64"
      ]
     },
     "execution_count": 5,
     "metadata": {},
     "output_type": "execute_result"
    }
   ],
   "source": [
    "df.child_alone.value_counts()"
   ]
  },
  {
   "cell_type": "code",
   "execution_count": 6,
   "metadata": {},
   "outputs": [],
   "source": [
    "# Clean up columns that has value of 2\n",
    "df = df[df.related != 2]"
   ]
  },
  {
   "cell_type": "code",
   "execution_count": 7,
   "metadata": {},
   "outputs": [],
   "source": [
    "# Define feature and target variables X and Y\n",
    "X = df.message.values\n",
    "Y = np.asarray(df[df.columns[4:]]) # equivalent to Y = df.iloc[:, 4:] "
   ]
  },
  {
   "cell_type": "code",
   "execution_count": 8,
   "metadata": {},
   "outputs": [
    {
     "data": {
      "text/plain": [
       "numpy.ndarray"
      ]
     },
     "execution_count": 8,
     "metadata": {},
     "output_type": "execute_result"
    }
   ],
   "source": [
    "type(Y)"
   ]
  },
  {
   "cell_type": "code",
   "execution_count": 9,
   "metadata": {},
   "outputs": [],
   "source": [
    "def tokenize(text):\n",
    "    #sentence_tokens = sent_tokenize(text)\n",
    "    word_tokens = word_tokenize(text)\n",
    "    return word_tokens"
   ]
  },
  {
   "cell_type": "markdown",
   "metadata": {},
   "source": [
    "### 3. Build a machine learning pipeline\n",
    "This machine pipeline should take in the `message` column as input and output classification results on the other 36 categories in the dataset. You may find the [MultiOutputClassifier](http://scikit-learn.org/stable/modules/generated/sklearn.multioutput.MultiOutputClassifier.html) helpful for predicting multiple target variables."
   ]
  },
  {
   "cell_type": "code",
   "execution_count": 10,
   "metadata": {},
   "outputs": [],
   "source": [
    "class DenseTransformer(TransformerMixin):\n",
    "\n",
    "    def fit(self, X, y=None, **fit_params):\n",
    "        return self\n",
    "\n",
    "    def transform(self, X, y=None, **fit_params):\n",
    "        return X.todense()"
   ]
  },
  {
   "cell_type": "code",
   "execution_count": 11,
   "metadata": {},
   "outputs": [],
   "source": [
    "# Building the model\n",
    "from sklearn.naive_bayes import GaussianNB\n",
    "pipeline = Pipeline([\n",
    "    ('vect', CountVectorizer(tokenizer=tokenize)), \n",
    "    ('tfidf', TfidfTransformer()), \n",
    "    ('to_dense', DenseTransformer()), \n",
    "    ('clf', MultiOutputClassifier(GaussianNB())) \n",
    "])"
   ]
  },
  {
   "cell_type": "markdown",
   "metadata": {},
   "source": [
    "### 4. Train pipeline\n",
    "- Split data into train and test sets\n",
    "- Train pipeline"
   ]
  },
  {
   "cell_type": "code",
   "execution_count": 12,
   "metadata": {},
   "outputs": [],
   "source": [
    "# Splitting data into train and test sets\n",
    "X_train, X_test, y_train, y_test = train_test_split(X, Y)"
   ]
  },
  {
   "cell_type": "code",
   "execution_count": 13,
   "metadata": {
    "scrolled": true
   },
   "outputs": [
    {
     "data": {
      "text/plain": [
       "numpy.ndarray"
      ]
     },
     "execution_count": 13,
     "metadata": {},
     "output_type": "execute_result"
    }
   ],
   "source": [
    "type(y_train) #.dtype"
   ]
  },
  {
   "cell_type": "code",
   "execution_count": 14,
   "metadata": {},
   "outputs": [],
   "source": [
    "# # Fit it on a subset of data first\n",
    "# #'''\n",
    "# X_train_subset = X_train[0:10]\n",
    "# y_train_subset = y_train[0:10]\n",
    "# pipeline.fit(X_train_subset, y_train_subset) \n",
    "# #'''"
   ]
  },
  {
   "cell_type": "code",
   "execution_count": 15,
   "metadata": {},
   "outputs": [],
   "source": [
    "#X_train_subset"
   ]
  },
  {
   "cell_type": "code",
   "execution_count": 16,
   "metadata": {
    "scrolled": true
   },
   "outputs": [],
   "source": [
    "#print(type(X_train_subset), type(y_train_subset))\n",
    "#X_train = X_train.asarray()\n",
    "#X_train.todense()"
   ]
  },
  {
   "cell_type": "code",
   "execution_count": 17,
   "metadata": {},
   "outputs": [],
   "source": [
    "# pipeline.fit(X_train, y_train) "
   ]
  },
  {
   "cell_type": "code",
   "execution_count": 18,
   "metadata": {},
   "outputs": [],
   "source": [
    "# y_pred = pipeline.predict(X_test)"
   ]
  },
  {
   "cell_type": "markdown",
   "metadata": {},
   "source": [
    "### 5. Test your model\n",
    "Report the f1 score, precision and recall for each output category of the dataset. You can do this by iterating through the columns and calling sklearn's `classification_report` on each."
   ]
  },
  {
   "cell_type": "code",
   "execution_count": 19,
   "metadata": {
    "scrolled": true
   },
   "outputs": [],
   "source": [
    "#Y"
   ]
  },
  {
   "cell_type": "code",
   "execution_count": 29,
   "metadata": {},
   "outputs": [],
   "source": [
    "categories = df[df.columns[4:]].columns.values\n",
    "# print(categories)\n",
    "#y_test_df = pd.DataFrame(y_test, columns=categories)\n",
    "#y_pred_df = pd.DataFrame(y_pred, columns=categories)"
   ]
  },
  {
   "cell_type": "code",
   "execution_count": 21,
   "metadata": {},
   "outputs": [],
   "source": [
    "# for i, c in enumerate(categories):\n",
    "#     print(c)\n",
    "#     #print(classification_report(y_test.iloc[:,i] , y_pred[:,i]))\n",
    "#     print(classification_report(y_test[:,i] , y_pred[:,i]))"
   ]
  },
  {
   "cell_type": "code",
   "execution_count": 22,
   "metadata": {},
   "outputs": [],
   "source": [
    "#from sklearn.metrics import multilabel_confusion_matrix\n",
    "#multilabel_confusion_matrix(y_test,y_pred)"
   ]
  },
  {
   "cell_type": "markdown",
   "metadata": {},
   "source": [
    "### 6. Improve your model\n",
    "Use grid search to find better parameters. "
   ]
  },
  {
   "cell_type": "code",
   "execution_count": 23,
   "metadata": {},
   "outputs": [],
   "source": [
    "# pipeline.get_params()"
   ]
  },
  {
   "cell_type": "code",
   "execution_count": 24,
   "metadata": {},
   "outputs": [],
   "source": [
    "# parameters = {\n",
    "#     #'vect__ngram_range':[(1,1),(1,2)],\n",
    "#     #'vect__binary':[True, False],\n",
    "#     #'vect__strip_accents':['unicode', None],\n",
    "#     'tfidf__norm':['l1', 'l2']\n",
    "# }\n",
    "\n",
    "# cv = GridSearchCV(pipeline, param_grid=parameters, n_jobs=4, verbose=3)"
   ]
  },
  {
   "cell_type": "code",
   "execution_count": 25,
   "metadata": {},
   "outputs": [
    {
     "name": "stdout",
     "output_type": "stream",
     "text": [
      "Fitting 5 folds for each of 2 candidates, totalling 10 fits\n"
     ]
    },
    {
     "data": {
      "text/plain": [
       "GridSearchCV(estimator=Pipeline(steps=[('vect',\n",
       "                                        CountVectorizer(tokenizer=<function tokenize at 0x7fce9e442af0>)),\n",
       "                                       ('tfidf', TfidfTransformer()),\n",
       "                                       ('to_dense',\n",
       "                                        <__main__.DenseTransformer object at 0x7fcea78d67f0>),\n",
       "                                       ('clf',\n",
       "                                        MultiOutputClassifier(estimator=GaussianNB()))]),\n",
       "             n_jobs=4, param_grid={'tfidf__norm': ['l1', 'l2']}, verbose=3)"
      ]
     },
     "execution_count": 25,
     "metadata": {},
     "output_type": "execute_result"
    }
   ],
   "source": [
    "#cv.fit(X_train, y_train)"
   ]
  },
  {
   "cell_type": "code",
   "execution_count": 26,
   "metadata": {
    "scrolled": true
   },
   "outputs": [
    {
     "name": "stdout",
     "output_type": "stream",
     "text": [
      "\n",
      "Best Parameters: {'tfidf__norm': 'l1'}\n"
     ]
    }
   ],
   "source": [
    "#print(\"\\nBest Parameters:\", cv.best_params_)"
   ]
  },
  {
   "cell_type": "code",
   "execution_count": 27,
   "metadata": {},
   "outputs": [],
   "source": [
    "#y_pred = cv.predict(X_test)"
   ]
  },
  {
   "cell_type": "markdown",
   "metadata": {},
   "source": [
    "### 7. Test your model\n",
    "Show the accuracy, precision, and recall of the tuned model.  \n",
    "\n",
    "Since this project focuses on code quality, process, and  pipelines, there is no minimum performance metric needed to pass. However, make sure to fine tune your models for accuracy, precision and recall to make your project stand out - especially for your portfolio!"
   ]
  },
  {
   "cell_type": "code",
   "execution_count": null,
   "metadata": {},
   "outputs": [],
   "source": [
    "# for i, c in enumerate(categories):\n",
    "#     print(c)\n",
    "#     print(classification_report(y_test[:,i] , y_pred[:,i])) #target_names=Y.columns"
   ]
  },
  {
   "cell_type": "markdown",
   "metadata": {},
   "source": [
    "### 8. Try improving your model further. Here are a few ideas:\n",
    "* try other machine learning algorithms\n",
    "* add other features besides the TF-IDF"
   ]
  },
  {
   "cell_type": "code",
   "execution_count": 38,
   "metadata": {},
   "outputs": [],
   "source": [
    "url_regex = 'http[s]?://(?:[a-zA-Z]|[0-9]|[$-_@.&+]|[!*\\(\\),]|(?:%[0-9a-fA-F][0-9a-fA-F]))+'"
   ]
  },
  {
   "cell_type": "code",
   "execution_count": 39,
   "metadata": {},
   "outputs": [
    {
     "name": "stdout",
     "output_type": "stream",
     "text": [
      "['i', 'me', 'my', 'myself', 'we', 'our', 'ours', 'ourselves', 'you', \"you're\", \"you've\", \"you'll\", \"you'd\", 'your', 'yours', 'yourself', 'yourselves', 'he', 'him', 'his', 'himself', 'she', \"she's\", 'her', 'hers', 'herself', 'it', \"it's\", 'its', 'itself', 'they', 'them', 'their', 'theirs', 'themselves', 'what', 'which', 'who', 'whom', 'this', 'that', \"that'll\", 'these', 'those', 'am', 'is', 'are', 'was', 'were', 'be', 'been', 'being', 'have', 'has', 'had', 'having', 'do', 'does', 'did', 'doing', 'a', 'an', 'the', 'and', 'but', 'if', 'or', 'because', 'as', 'until', 'while', 'of', 'at', 'by', 'for', 'with', 'about', 'against', 'between', 'into', 'through', 'during', 'before', 'after', 'above', 'below', 'to', 'from', 'up', 'down', 'in', 'out', 'on', 'off', 'over', 'under', 'again', 'further', 'then', 'once', 'here', 'there', 'when', 'where', 'why', 'how', 'all', 'any', 'both', 'each', 'few', 'more', 'most', 'other', 'some', 'such', 'no', 'nor', 'not', 'only', 'own', 'same', 'so', 'than', 'too', 'very', 's', 't', 'can', 'will', 'just', 'don', \"don't\", 'should', \"should've\", 'now', 'd', 'll', 'm', 'o', 're', 've', 'y', 'ain', 'aren', \"aren't\", 'couldn', \"couldn't\", 'didn', \"didn't\", 'doesn', \"doesn't\", 'hadn', \"hadn't\", 'hasn', \"hasn't\", 'haven', \"haven't\", 'isn', \"isn't\", 'ma', 'mightn', \"mightn't\", 'mustn', \"mustn't\", 'needn', \"needn't\", 'shan', \"shan't\", 'shouldn', \"shouldn't\", 'wasn', \"wasn't\", 'weren', \"weren't\", 'won', \"won't\", 'wouldn', \"wouldn't\"]\n"
     ]
    }
   ],
   "source": [
    "print(stopwords.words('english'))"
   ]
  },
  {
   "cell_type": "code",
   "execution_count": 40,
   "metadata": {},
   "outputs": [],
   "source": [
    "def tokenize(text):\n",
    "    '''\n",
    "    This function first normalizes the plain texts, detects URLs in the messages, replace those URLs with a place holder;\n",
    "    It further tokenizes words and removes stop words;\n",
    "    After maps and lemmatizes different versions of same words to their root forms, \n",
    "    the function finally returns the clean tokens.\n",
    "    '''\n",
    "    detected_urls = re.findall(url_regex, text)\n",
    "    text = text.lower()\n",
    "    for url in detected_urls:\n",
    "        text = text.replace(url, \"urlplaceholder\")\n",
    "        \n",
    "    word_tokens = word_tokenize(text)\n",
    "    \n",
    "    words = [w for w in word_tokens if w not in stopwords.words('english')]\n",
    "    \n",
    "    lemmatizer = WordNetLemmatizer()\n",
    "    clean_tokens = []\n",
    "    for tok in words:\n",
    "        clean_tok = lemmatizer.lemmatize(tok).lower().strip()\n",
    "        clean_tokens.append(clean_tok)\n",
    "\n",
    "    return clean_tokens"
   ]
  },
  {
   "cell_type": "code",
   "execution_count": 41,
   "metadata": {
    "scrolled": true
   },
   "outputs": [
    {
     "data": {
      "text/plain": [
       "['since',\n",
       " ',',\n",
       " '9',\n",
       " 'million',\n",
       " 'people',\n",
       " 'directly',\n",
       " 'affected',\n",
       " 'cyclone',\n",
       " 'caused',\n",
       " 'extensive',\n",
       " 'damage',\n",
       " 'house',\n",
       " ',',\n",
       " 'water',\n",
       " 'sanitation',\n",
       " 'infrastructure',\n",
       " ',',\n",
       " 'harvest',\n",
       " ',',\n",
       " 'food',\n",
       " 'stock',\n",
       " 'livelihood',\n",
       " ',',\n",
       " 'also',\n",
       " 'killing',\n",
       " 'livestock',\n",
       " 'destroying',\n",
       " 'fishing',\n",
       " 'material',\n",
       " 'income',\n",
       " 'generating',\n",
       " 'asset',\n",
       " '.']"
      ]
     },
     "execution_count": 41,
     "metadata": {},
     "output_type": "execute_result"
    }
   ],
   "source": [
    "# Testing tokenize() function\n",
    "tokenize('Since then, more than 9 million people have been directly affected by the cyclone which caused extensive damages to houses, water and sanitation infrastructures, harvests, food stocks and livelihoods, also killing livestock and destroying fishing material and other income generating assets.')"
   ]
  },
  {
   "cell_type": "code",
   "execution_count": 42,
   "metadata": {},
   "outputs": [],
   "source": [
    "class DenseTransformer(TransformerMixin):\n",
    "\n",
    "    def fit(self, X, y=None, **fit_params):\n",
    "        return self\n",
    "\n",
    "    def transform(self, X, y=None, **fit_params):\n",
    "        return X.todense()"
   ]
  },
  {
   "cell_type": "code",
   "execution_count": 43,
   "metadata": {},
   "outputs": [],
   "source": [
    "# Refitting\n",
    "from sklearn.svm import SVC\n",
    "from sklearn.tree import DecisionTreeClassifier\n",
    "from sklearn.naive_bayes import GaussianNB\n",
    "# More classifiers: AdaBoostClassifier, LinearSVC \n",
    "pipeline = Pipeline([\n",
    "    ('vect', CountVectorizer(tokenizer=tokenize)), \n",
    "    ('tfidf', TfidfTransformer()), \n",
    "    ('to_dense', DenseTransformer()), \n",
    "    ('clf', MultiOutputClassifier(GaussianNB())) \n",
    "])"
   ]
  },
  {
   "cell_type": "code",
   "execution_count": 44,
   "metadata": {},
   "outputs": [],
   "source": [
    "#pipeline.fit(X_train, y_train) \n",
    "#y_pred = pipeline.predict(X_test)"
   ]
  },
  {
   "cell_type": "code",
   "execution_count": 45,
   "metadata": {},
   "outputs": [],
   "source": [
    "# Grid search\n",
    "parameters = {\n",
    "    #'vect__ngram_range':[(1,1),(1,2)],\n",
    "    'tfidf__norm':['l1', 'l2']\n",
    "}\n",
    "\n",
    "cv = GridSearchCV(pipeline, param_grid=parameters, n_jobs=1, verbose=3)"
   ]
  },
  {
   "cell_type": "code",
   "execution_count": 46,
   "metadata": {
    "scrolled": true
   },
   "outputs": [
    {
     "name": "stdout",
     "output_type": "stream",
     "text": [
      "Fitting 5 folds for each of 2 candidates, totalling 10 fits\n",
      "[CV 1/5] END ....................tfidf__norm=l1;, score=0.072 total time= 6.8min\n",
      "[CV 2/5] END ....................tfidf__norm=l1;, score=0.070 total time= 6.5min\n",
      "[CV 3/5] END ....................tfidf__norm=l1;, score=0.082 total time= 6.5min\n",
      "[CV 4/5] END ....................tfidf__norm=l1;, score=0.079 total time= 6.5min\n",
      "[CV 5/5] END ....................tfidf__norm=l1;, score=0.074 total time= 6.6min\n",
      "[CV 1/5] END ....................tfidf__norm=l2;, score=0.066 total time= 6.6min\n",
      "[CV 2/5] END ....................tfidf__norm=l2;, score=0.061 total time= 6.6min\n",
      "[CV 3/5] END ....................tfidf__norm=l2;, score=0.075 total time= 6.6min\n",
      "[CV 4/5] END ....................tfidf__norm=l2;, score=0.071 total time= 6.7min\n",
      "[CV 5/5] END ....................tfidf__norm=l2;, score=0.065 total time= 6.6min\n"
     ]
    },
    {
     "data": {
      "text/plain": [
       "GridSearchCV(estimator=Pipeline(steps=[('vect',\n",
       "                                        CountVectorizer(tokenizer=<function tokenize at 0x7fcea7c391f0>)),\n",
       "                                       ('tfidf', TfidfTransformer()),\n",
       "                                       ('to_dense',\n",
       "                                        <__main__.DenseTransformer object at 0x7fcea7863df0>),\n",
       "                                       ('clf',\n",
       "                                        MultiOutputClassifier(estimator=GaussianNB()))]),\n",
       "             n_jobs=1, param_grid={'tfidf__norm': ['l1', 'l2']}, verbose=3)"
      ]
     },
     "execution_count": 46,
     "metadata": {},
     "output_type": "execute_result"
    }
   ],
   "source": [
    "cv.fit(X_train, y_train)"
   ]
  },
  {
   "cell_type": "code",
   "execution_count": 47,
   "metadata": {},
   "outputs": [
    {
     "data": {
      "text/plain": [
       "numpy.ndarray"
      ]
     },
     "execution_count": 47,
     "metadata": {},
     "output_type": "execute_result"
    }
   ],
   "source": [
    "type(X_train)"
   ]
  },
  {
   "cell_type": "code",
   "execution_count": 48,
   "metadata": {
    "scrolled": true
   },
   "outputs": [
    {
     "name": "stdout",
     "output_type": "stream",
     "text": [
      "\n",
      "Best Parameters: {'tfidf__norm': 'l1'}\n"
     ]
    }
   ],
   "source": [
    "print(\"\\nBest Parameters:\", cv.best_params_)"
   ]
  },
  {
   "cell_type": "code",
   "execution_count": 49,
   "metadata": {},
   "outputs": [],
   "source": [
    "y_pred = cv.predict(X_test)"
   ]
  },
  {
   "cell_type": "code",
   "execution_count": 51,
   "metadata": {
    "scrolled": true
   },
   "outputs": [
    {
     "name": "stdout",
     "output_type": "stream",
     "text": [
      "related\n",
      "              precision    recall  f1-score   support\n",
      "\n",
      "           0       0.32      0.63      0.43      1537\n",
      "           1       0.84      0.59      0.70      4970\n",
      "\n",
      "    accuracy                           0.60      6507\n",
      "   macro avg       0.58      0.61      0.56      6507\n",
      "weighted avg       0.72      0.60      0.63      6507\n",
      "\n",
      "request\n",
      "              precision    recall  f1-score   support\n",
      "\n",
      "           0       0.92      0.73      0.81      5436\n",
      "           1       0.33      0.68      0.45      1071\n",
      "\n",
      "    accuracy                           0.72      6507\n",
      "   macro avg       0.63      0.71      0.63      6507\n",
      "weighted avg       0.82      0.72      0.75      6507\n",
      "\n",
      "offer\n",
      "              precision    recall  f1-score   support\n",
      "\n",
      "           0       1.00      0.99      0.99      6479\n",
      "           1       0.02      0.07      0.03        28\n",
      "\n",
      "    accuracy                           0.98      6507\n",
      "   macro avg       0.51      0.53      0.51      6507\n",
      "weighted avg       0.99      0.98      0.99      6507\n",
      "\n",
      "aid_related\n",
      "              precision    recall  f1-score   support\n",
      "\n",
      "           0       0.68      0.35      0.47      3803\n",
      "           1       0.46      0.77      0.57      2704\n",
      "\n",
      "    accuracy                           0.53      6507\n",
      "   macro avg       0.57      0.56      0.52      6507\n",
      "weighted avg       0.59      0.53      0.51      6507\n",
      "\n",
      "medical_help\n",
      "              precision    recall  f1-score   support\n",
      "\n",
      "           0       0.93      0.71      0.80      6016\n",
      "           1       0.09      0.36      0.15       491\n",
      "\n",
      "    accuracy                           0.68      6507\n",
      "   macro avg       0.51      0.54      0.47      6507\n",
      "weighted avg       0.87      0.68      0.75      6507\n",
      "\n",
      "medical_products\n",
      "              precision    recall  f1-score   support\n",
      "\n",
      "           0       0.96      0.80      0.87      6196\n",
      "           1       0.07      0.29      0.11       311\n",
      "\n",
      "    accuracy                           0.77      6507\n",
      "   macro avg       0.51      0.54      0.49      6507\n",
      "weighted avg       0.91      0.77      0.83      6507\n",
      "\n",
      "search_and_rescue\n",
      "              precision    recall  f1-score   support\n",
      "\n",
      "           0       0.97      0.86      0.91      6329\n",
      "           1       0.03      0.15      0.05       178\n",
      "\n",
      "    accuracy                           0.84      6507\n",
      "   macro avg       0.50      0.50      0.48      6507\n",
      "weighted avg       0.95      0.84      0.89      6507\n",
      "\n",
      "security\n",
      "              precision    recall  f1-score   support\n",
      "\n",
      "           0       0.98      0.90      0.94      6403\n",
      "           1       0.02      0.12      0.03       104\n",
      "\n",
      "    accuracy                           0.88      6507\n",
      "   macro avg       0.50      0.51      0.49      6507\n",
      "weighted avg       0.97      0.88      0.92      6507\n",
      "\n",
      "military\n",
      "              precision    recall  f1-score   support\n",
      "\n",
      "           0       0.97      0.89      0.93      6290\n",
      "           1       0.05      0.18      0.08       217\n",
      "\n",
      "    accuracy                           0.87      6507\n",
      "   macro avg       0.51      0.54      0.51      6507\n",
      "weighted avg       0.94      0.87      0.90      6507\n",
      "\n",
      "child_alone\n",
      "              precision    recall  f1-score   support\n",
      "\n",
      "           0       1.00      1.00      1.00      6507\n",
      "\n",
      "    accuracy                           1.00      6507\n",
      "   macro avg       1.00      1.00      1.00      6507\n",
      "weighted avg       1.00      1.00      1.00      6507\n",
      "\n",
      "water\n",
      "              precision    recall  f1-score   support\n",
      "\n",
      "           0       0.95      0.77      0.85      6092\n",
      "           1       0.10      0.39      0.16       415\n",
      "\n",
      "    accuracy                           0.75      6507\n",
      "   macro avg       0.53      0.58      0.51      6507\n",
      "weighted avg       0.89      0.75      0.81      6507\n",
      "\n",
      "food\n",
      "              precision    recall  f1-score   support\n",
      "\n",
      "           0       0.92      0.72      0.81      5759\n",
      "           1       0.20      0.54      0.29       748\n",
      "\n",
      "    accuracy                           0.70      6507\n",
      "   macro avg       0.56      0.63      0.55      6507\n",
      "weighted avg       0.84      0.70      0.75      6507\n",
      "\n",
      "shelter\n",
      "              precision    recall  f1-score   support\n",
      "\n",
      "           0       0.94      0.73      0.82      5955\n",
      "           1       0.14      0.48      0.22       552\n",
      "\n",
      "    accuracy                           0.71      6507\n",
      "   macro avg       0.54      0.60      0.52      6507\n",
      "weighted avg       0.87      0.71      0.77      6507\n",
      "\n",
      "clothing\n",
      "              precision    recall  f1-score   support\n",
      "\n",
      "           0       0.99      0.93      0.96      6390\n",
      "           1       0.07      0.31      0.12       117\n",
      "\n",
      "    accuracy                           0.92      6507\n",
      "   macro avg       0.53      0.62      0.54      6507\n",
      "weighted avg       0.97      0.92      0.94      6507\n",
      "\n",
      "money\n",
      "              precision    recall  f1-score   support\n",
      "\n",
      "           0       0.98      0.88      0.93      6357\n",
      "           1       0.03      0.15      0.05       150\n",
      "\n",
      "    accuracy                           0.86      6507\n",
      "   macro avg       0.50      0.52      0.49      6507\n",
      "weighted avg       0.96      0.86      0.91      6507\n",
      "\n",
      "missing_people\n",
      "              precision    recall  f1-score   support\n",
      "\n",
      "           0       0.99      0.93      0.96      6430\n",
      "           1       0.02      0.13      0.04        77\n",
      "\n",
      "    accuracy                           0.92      6507\n",
      "   macro avg       0.51      0.53      0.50      6507\n",
      "weighted avg       0.98      0.92      0.95      6507\n",
      "\n",
      "refugees\n",
      "              precision    recall  f1-score   support\n",
      "\n",
      "           0       0.97      0.84      0.90      6294\n",
      "           1       0.04      0.19      0.07       213\n",
      "\n",
      "    accuracy                           0.82      6507\n",
      "   macro avg       0.50      0.52      0.48      6507\n",
      "weighted avg       0.94      0.82      0.87      6507\n",
      "\n",
      "death\n",
      "              precision    recall  f1-score   support\n",
      "\n",
      "           0       0.96      0.81      0.88      6193\n",
      "           1       0.07      0.25      0.10       314\n",
      "\n",
      "    accuracy                           0.79      6507\n",
      "   macro avg       0.51      0.53      0.49      6507\n",
      "weighted avg       0.91      0.79      0.84      6507\n",
      "\n",
      "other_aid\n",
      "              precision    recall  f1-score   support\n",
      "\n",
      "           0       0.89      0.61      0.73      5644\n",
      "           1       0.17      0.50      0.25       863\n",
      "\n",
      "    accuracy                           0.60      6507\n",
      "   macro avg       0.53      0.56      0.49      6507\n",
      "weighted avg       0.79      0.60      0.66      6507\n",
      "\n",
      "infrastructure_related\n",
      "              precision    recall  f1-score   support\n",
      "\n",
      "           0       0.94      0.72      0.82      6128\n",
      "           1       0.06      0.30      0.10       379\n",
      "\n",
      "    accuracy                           0.70      6507\n",
      "   macro avg       0.50      0.51      0.46      6507\n",
      "weighted avg       0.89      0.70      0.78      6507\n",
      "\n",
      "transport\n",
      "              precision    recall  f1-score   support\n",
      "\n",
      "           0       0.96      0.79      0.87      6234\n",
      "           1       0.05      0.26      0.09       273\n",
      "\n",
      "    accuracy                           0.77      6507\n",
      "   macro avg       0.51      0.53      0.48      6507\n",
      "weighted avg       0.92      0.77      0.84      6507\n",
      "\n",
      "buildings\n",
      "              precision    recall  f1-score   support\n",
      "\n",
      "           0       0.96      0.78      0.86      6182\n",
      "           1       0.08      0.34      0.13       325\n",
      "\n",
      "    accuracy                           0.76      6507\n",
      "   macro avg       0.52      0.56      0.49      6507\n",
      "weighted avg       0.91      0.76      0.83      6507\n",
      "\n",
      "electricity\n",
      "              precision    recall  f1-score   support\n",
      "\n",
      "           0       0.98      0.90      0.94      6380\n",
      "           1       0.03      0.14      0.05       127\n",
      "\n",
      "    accuracy                           0.89      6507\n",
      "   macro avg       0.51      0.52      0.49      6507\n",
      "weighted avg       0.96      0.89      0.92      6507\n",
      "\n",
      "tools\n",
      "              precision    recall  f1-score   support\n",
      "\n",
      "           0       0.99      0.98      0.98      6471\n",
      "           1       0.01      0.03      0.01        36\n",
      "\n",
      "    accuracy                           0.97      6507\n",
      "   macro avg       0.50      0.50      0.50      6507\n",
      "weighted avg       0.99      0.97      0.98      6507\n",
      "\n",
      "hospitals\n",
      "              precision    recall  f1-score   support\n",
      "\n",
      "           0       0.99      0.95      0.97      6450\n",
      "           1       0.00      0.02      0.01        57\n",
      "\n",
      "    accuracy                           0.94      6507\n",
      "   macro avg       0.50      0.48      0.49      6507\n",
      "weighted avg       0.98      0.94      0.96      6507\n",
      "\n",
      "shops\n",
      "              precision    recall  f1-score   support\n",
      "\n",
      "           0       0.99      0.97      0.98      6475\n",
      "           1       0.00      0.00      0.00        32\n",
      "\n",
      "    accuracy                           0.97      6507\n",
      "   macro avg       0.50      0.49      0.49      6507\n",
      "weighted avg       0.99      0.97      0.98      6507\n",
      "\n",
      "aid_centers\n",
      "              precision    recall  f1-score   support\n",
      "\n",
      "           0       0.99      0.93      0.96      6439\n",
      "           1       0.01      0.09      0.02        68\n",
      "\n",
      "    accuracy                           0.92      6507\n",
      "   macro avg       0.50      0.51      0.49      6507\n",
      "weighted avg       0.98      0.92      0.95      6507\n",
      "\n",
      "other_infrastructure\n",
      "              precision    recall  f1-score   support\n",
      "\n",
      "           0       0.96      0.81      0.88      6242\n",
      "           1       0.05      0.22      0.08       265\n",
      "\n",
      "    accuracy                           0.79      6507\n",
      "   macro avg       0.50      0.51      0.48      6507\n",
      "weighted avg       0.92      0.79      0.85      6507\n",
      "\n",
      "weather_related\n",
      "              precision    recall  f1-score   support\n",
      "\n",
      "           0       0.82      0.46      0.59      4760\n",
      "           1       0.33      0.73      0.46      1747\n",
      "\n",
      "    accuracy                           0.53      6507\n",
      "   macro avg       0.58      0.59      0.52      6507\n",
      "weighted avg       0.69      0.53      0.56      6507\n",
      "\n",
      "floods\n",
      "              precision    recall  f1-score   support\n",
      "\n",
      "           0       0.93      0.71      0.80      5981\n",
      "           1       0.10      0.38      0.16       526\n",
      "\n",
      "    accuracy                           0.68      6507\n",
      "   macro avg       0.52      0.55      0.48      6507\n",
      "weighted avg       0.86      0.68      0.75      6507\n",
      "\n",
      "storm\n",
      "              precision    recall  f1-score   support\n",
      "\n",
      "           0       0.93      0.72      0.81      5926\n",
      "           1       0.14      0.45      0.21       581\n",
      "\n",
      "    accuracy                           0.69      6507\n",
      "   macro avg       0.53      0.59      0.51      6507\n",
      "weighted avg       0.86      0.69      0.76      6507\n",
      "\n",
      "fire\n",
      "              precision    recall  f1-score   support\n",
      "\n",
      "           0       0.99      0.94      0.97      6443\n",
      "           1       0.01      0.03      0.01        64\n",
      "\n",
      "    accuracy                           0.93      6507\n",
      "   macro avg       0.50      0.49      0.49      6507\n",
      "weighted avg       0.98      0.93      0.96      6507\n",
      "\n",
      "earthquake\n",
      "              precision    recall  f1-score   support\n",
      "\n",
      "           0       0.94      0.76      0.84      5925\n",
      "           1       0.18      0.55      0.27       582\n",
      "\n",
      "    accuracy                           0.74      6507\n",
      "   macro avg       0.56      0.65      0.56      6507\n",
      "weighted avg       0.88      0.74      0.79      6507\n",
      "\n",
      "cold\n",
      "              precision    recall  f1-score   support\n",
      "\n",
      "           0       0.98      0.91      0.94      6373\n",
      "           1       0.04      0.20      0.07       134\n",
      "\n",
      "    accuracy                           0.89      6507\n",
      "   macro avg       0.51      0.56      0.51      6507\n",
      "weighted avg       0.96      0.89      0.93      6507\n",
      "\n",
      "other_weather\n",
      "              precision    recall  f1-score   support\n",
      "\n",
      "           0       0.95      0.78      0.86      6174\n",
      "           1       0.05      0.20      0.08       333\n",
      "\n",
      "    accuracy                           0.75      6507\n",
      "   macro avg       0.50      0.49      0.47      6507\n",
      "weighted avg       0.90      0.75      0.82      6507\n",
      "\n",
      "direct_report\n",
      "              precision    recall  f1-score   support\n",
      "\n",
      "           0       0.89      0.67      0.76      5281\n",
      "           1       0.31      0.65      0.42      1226\n",
      "\n",
      "    accuracy                           0.66      6507\n",
      "   macro avg       0.60      0.66      0.59      6507\n",
      "weighted avg       0.78      0.66      0.70      6507\n",
      "\n"
     ]
    }
   ],
   "source": [
    "# Reevaluation\n",
    "for i, c in enumerate(categories):\n",
    "    print(c)\n",
    "    print(classification_report(y_test[:,i] , y_pred[:,i])) #target_names=Y.columns"
   ]
  },
  {
   "cell_type": "code",
   "execution_count": 53,
   "metadata": {},
   "outputs": [],
   "source": [
    "#print(classification_report(y_test, y_pred, target_names=category_names))\n",
    "#results = pd.DataFrame(columns=['Category', 'f_score', 'precision', 'recall'])"
   ]
  },
  {
   "cell_type": "code",
   "execution_count": 54,
   "metadata": {},
   "outputs": [
    {
     "data": {
      "text/plain": [
       "0.07161518364837867"
      ]
     },
     "execution_count": 54,
     "metadata": {},
     "output_type": "execute_result"
    }
   ],
   "source": [
    "from sklearn.metrics import accuracy_score, f1_score, precision_score, recall_score\n",
    "accuracy_score(y_test, y_pred, normalize=True)"
   ]
  },
  {
   "cell_type": "code",
   "execution_count": 55,
   "metadata": {},
   "outputs": [
    {
     "name": "stderr",
     "output_type": "stream",
     "text": [
      "/Users/lin/miniconda3/envs/myenv/lib/python3.9/site-packages/sklearn/metrics/_classification.py:1495: UndefinedMetricWarning: F-score is ill-defined and being set to 0.0 in labels with no true nor predicted samples. Use `zero_division` parameter to control this behavior.\n",
      "  _warn_prf(\n"
     ]
    },
    {
     "data": {
      "text/plain": [
       "0.4025353094765057"
      ]
     },
     "execution_count": 55,
     "metadata": {},
     "output_type": "execute_result"
    }
   ],
   "source": [
    "f1_score(y_test, y_pred, average='weighted')"
   ]
  },
  {
   "cell_type": "code",
   "execution_count": 56,
   "metadata": {},
   "outputs": [
    {
     "name": "stderr",
     "output_type": "stream",
     "text": [
      "/Users/lin/miniconda3/envs/myenv/lib/python3.9/site-packages/sklearn/metrics/_classification.py:1495: UndefinedMetricWarning: F-score is ill-defined and being set to 0.0 in labels with no true nor predicted samples. Use `zero_division` parameter to control this behavior.\n",
      "  _warn_prf(\n"
     ]
    },
    {
     "data": {
      "text/plain": [
       "0.1563271449686524"
      ]
     },
     "execution_count": 56,
     "metadata": {},
     "output_type": "execute_result"
    }
   ],
   "source": [
    "f1_score(y_test, y_pred, average='macro')"
   ]
  },
  {
   "cell_type": "code",
   "execution_count": 57,
   "metadata": {},
   "outputs": [
    {
     "data": {
      "text/plain": [
       "0.3095840559520086"
      ]
     },
     "execution_count": 57,
     "metadata": {},
     "output_type": "execute_result"
    }
   ],
   "source": [
    "f1_score(y_test, y_pred, average='micro')"
   ]
  },
  {
   "cell_type": "code",
   "execution_count": 58,
   "metadata": {},
   "outputs": [
    {
     "data": {
      "text/plain": [
       "0.5369858960449748"
      ]
     },
     "execution_count": 58,
     "metadata": {},
     "output_type": "execute_result"
    }
   ],
   "source": [
    "recall_score(y_test, y_pred, average='micro')"
   ]
  },
  {
   "cell_type": "code",
   "execution_count": 59,
   "metadata": {},
   "outputs": [
    {
     "name": "stderr",
     "output_type": "stream",
     "text": [
      "/Users/lin/miniconda3/envs/myenv/lib/python3.9/site-packages/sklearn/metrics/_classification.py:1248: UndefinedMetricWarning: Precision is ill-defined and being set to 0.0 in labels with no predicted samples. Use `zero_division` parameter to control this behavior.\n",
      "  _warn_prf(average, modifier, msg_start, len(result))\n"
     ]
    },
    {
     "data": {
      "text/plain": [
       "0.11675232192272704"
      ]
     },
     "execution_count": 59,
     "metadata": {},
     "output_type": "execute_result"
    }
   ],
   "source": [
    "precision_score(y_test, y_pred, average='macro')"
   ]
  },
  {
   "cell_type": "markdown",
   "metadata": {},
   "source": [
    "### 9. Export your model as a pickle file"
   ]
  },
  {
   "cell_type": "code",
   "execution_count": 63,
   "metadata": {},
   "outputs": [],
   "source": [
    "# Save the model to disk\n",
    "pickle.dump(cv.best_estimator_, open('classifier.pkl', 'wb'))"
   ]
  },
  {
   "cell_type": "markdown",
   "metadata": {},
   "source": [
    "### 10. Use this notebook to complete `train.py`\n",
    "Use the template file attached in the Resources folder to write a script that runs the steps above to create a database and export a model based on a new dataset specified by the user."
   ]
  },
  {
   "cell_type": "markdown",
   "metadata": {},
   "source": [
    "#### Imbalanced Data\n",
    "It can be seen that the count for different categories are imbalanced, this will normally require us to look carefully at any sources of bias during data collections are accounted for. "
   ]
  }
 ],
 "metadata": {
  "kernelspec": {
   "display_name": "Python 3",
   "language": "python",
   "name": "python3"
  },
  "language_info": {
   "codemirror_mode": {
    "name": "ipython",
    "version": 3
   },
   "file_extension": ".py",
   "mimetype": "text/x-python",
   "name": "python",
   "nbconvert_exporter": "python",
   "pygments_lexer": "ipython3",
   "version": "3.9.5"
  }
 },
 "nbformat": 4,
 "nbformat_minor": 2
}
