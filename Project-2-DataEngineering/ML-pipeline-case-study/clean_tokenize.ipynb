{
 "cells": [
  {
   "cell_type": "markdown",
   "metadata": {},
   "source": [
    "## Tokenization\n",
    "Before we can classify any posts, we'll need to clean and tokenize the text data. Use what you remember from the last lesson on NLP to implement the function `tokenize`. This function should perform the following steps on the string, `text`, using nltk:\n",
    "\n",
    "1. Identify any urls in `text`, and replace each one with the word, `\"urlplaceholder\"`.\n",
    "2. Split `text` into tokens.\n",
    "3. For each token: lemmatize, normalize case, and strip leading and trailing white space.\n",
    "4. Return the tokens in a list!\n",
    "\n",
    "For example, this:\n",
    "```python\n",
    "text = 'Barclays CEO stresses the importance of regulatory and cultural reform in financial services at Brussels conference  http://t.co/Ge9Lp7hpyG'\n",
    "\n",
    "tokenize(text)\n",
    "```\n",
    "should return this:\n",
    "```txt\n",
    "['barclays', 'ceo', 'stress', 'the', 'importance', 'of', 'regulatory', 'and', 'cultural', 'reform', 'in', 'financial', 'service', 'at', 'brussels', 'conference', 'urlplaceholder']\n",
    "```\n",
    "\n",
    "Hint: You'll have to add an import statement to use the `re` package (which supports regular expressions) and two import statements to use the appropriate functions from `nltk`! Add them to this first code cell."
   ]
  },
  {
   "cell_type": "code",
   "execution_count": 8,
   "metadata": {},
   "outputs": [
    {
     "name": "stderr",
     "output_type": "stream",
     "text": [
      "[nltk_data] Downloading package punkt to /Users/lin/nltk_data...\n",
      "[nltk_data]   Package punkt is already up-to-date!\n",
      "[nltk_data] Downloading package wordnet to /Users/lin/nltk_data...\n",
      "[nltk_data]   Package wordnet is already up-to-date!\n"
     ]
    }
   ],
   "source": [
    "# download necessary NLTK data\n",
    "import nltk\n",
    "nltk.download(['punkt', 'wordnet'])\n",
    "\n",
    "# import statements\n",
    "import pandas as pd\n",
    "import re\n",
    "from nltk.tokenize import word_tokenize\n",
    "from nltk.tokenize import sent_tokenize\n",
    "from nltk.stem.porter import PorterStemmer\n",
    "from nltk.stem.wordnet import WordNetLemmatizer"
   ]
  },
  {
   "cell_type": "code",
   "execution_count": 2,
   "metadata": {},
   "outputs": [],
   "source": [
    "def load_data():\n",
    "    df = pd.read_csv('corporate_messaging.csv', encoding='latin-1')\n",
    "    df = df[(df[\"category:confidence\"] == 1) & (df['category'] != 'Exclude')]\n",
    "    X = df.text.values\n",
    "    y = df.category.values\n",
    "    return X, y"
   ]
  },
  {
   "cell_type": "markdown",
   "metadata": {},
   "source": [
    "#### For step 1, the regular expression to detect a url is given below"
   ]
  },
  {
   "cell_type": "code",
   "execution_count": 3,
   "metadata": {},
   "outputs": [],
   "source": [
    "url_regex = 'http[s]?://(?:[a-zA-Z]|[0-9]|[$-_@.&+]|[!*\\(\\),]|(?:%[0-9a-fA-F][0-9a-fA-F]))+'"
   ]
  },
  {
   "cell_type": "code",
   "execution_count": 13,
   "metadata": {},
   "outputs": [],
   "source": [
    "def tokenize(text):\n",
    "    # get list of all urls using regex\n",
    "    detected_urls = re.findall(url_regex, text) #???\n",
    "    \n",
    "    # replace each url in text string with placeholder\n",
    "    for url in detected_urls:\n",
    "        text = re.sub(url_regex, 'urlplaceholder', text)\n",
    "\n",
    "    # tokenize text\n",
    "    tokens = word_tokenize(text)\n",
    "    \n",
    "    # initiate lemmatizer\n",
    "    lemmatizer = [PorterStemmer().stem(w).strip() for w in tokens]\n",
    "\n",
    "    # iterate through each token\n",
    "    clean_tokens = []\n",
    "    for tok in tokens:\n",
    "        \n",
    "        # lemmatize, normalize case, and remove leading/trailing white space\n",
    "        clean_tok = [WordNetLemmatizer().lemmatize(w) for w in lemmatizer]\n",
    "        clean_tokens.append(clean_tok)\n",
    "\n",
    "    return clean_tokens"
   ]
  },
  {
   "cell_type": "code",
   "execution_count": 14,
   "metadata": {},
   "outputs": [
    {
     "name": "stdout",
     "output_type": "stream",
     "text": [
      "Barclays CEO stresses the importance of regulatory and cultural reform in financial services at Brussels conference  http://t.co/Ge9Lp7hpyG\n",
      "[['barclay', 'ceo', 'stress', 'the', 'import', 'of', 'regulatori', 'and', 'cultur', 'reform', 'in', 'financi', 'servic', 'at', 'brussel', 'confer', 'urlplacehold'], ['barclay', 'ceo', 'stress', 'the', 'import', 'of', 'regulatori', 'and', 'cultur', 'reform', 'in', 'financi', 'servic', 'at', 'brussel', 'confer', 'urlplacehold'], ['barclay', 'ceo', 'stress', 'the', 'import', 'of', 'regulatori', 'and', 'cultur', 'reform', 'in', 'financi', 'servic', 'at', 'brussel', 'confer', 'urlplacehold'], ['barclay', 'ceo', 'stress', 'the', 'import', 'of', 'regulatori', 'and', 'cultur', 'reform', 'in', 'financi', 'servic', 'at', 'brussel', 'confer', 'urlplacehold'], ['barclay', 'ceo', 'stress', 'the', 'import', 'of', 'regulatori', 'and', 'cultur', 'reform', 'in', 'financi', 'servic', 'at', 'brussel', 'confer', 'urlplacehold'], ['barclay', 'ceo', 'stress', 'the', 'import', 'of', 'regulatori', 'and', 'cultur', 'reform', 'in', 'financi', 'servic', 'at', 'brussel', 'confer', 'urlplacehold'], ['barclay', 'ceo', 'stress', 'the', 'import', 'of', 'regulatori', 'and', 'cultur', 'reform', 'in', 'financi', 'servic', 'at', 'brussel', 'confer', 'urlplacehold'], ['barclay', 'ceo', 'stress', 'the', 'import', 'of', 'regulatori', 'and', 'cultur', 'reform', 'in', 'financi', 'servic', 'at', 'brussel', 'confer', 'urlplacehold'], ['barclay', 'ceo', 'stress', 'the', 'import', 'of', 'regulatori', 'and', 'cultur', 'reform', 'in', 'financi', 'servic', 'at', 'brussel', 'confer', 'urlplacehold'], ['barclay', 'ceo', 'stress', 'the', 'import', 'of', 'regulatori', 'and', 'cultur', 'reform', 'in', 'financi', 'servic', 'at', 'brussel', 'confer', 'urlplacehold'], ['barclay', 'ceo', 'stress', 'the', 'import', 'of', 'regulatori', 'and', 'cultur', 'reform', 'in', 'financi', 'servic', 'at', 'brussel', 'confer', 'urlplacehold'], ['barclay', 'ceo', 'stress', 'the', 'import', 'of', 'regulatori', 'and', 'cultur', 'reform', 'in', 'financi', 'servic', 'at', 'brussel', 'confer', 'urlplacehold'], ['barclay', 'ceo', 'stress', 'the', 'import', 'of', 'regulatori', 'and', 'cultur', 'reform', 'in', 'financi', 'servic', 'at', 'brussel', 'confer', 'urlplacehold'], ['barclay', 'ceo', 'stress', 'the', 'import', 'of', 'regulatori', 'and', 'cultur', 'reform', 'in', 'financi', 'servic', 'at', 'brussel', 'confer', 'urlplacehold'], ['barclay', 'ceo', 'stress', 'the', 'import', 'of', 'regulatori', 'and', 'cultur', 'reform', 'in', 'financi', 'servic', 'at', 'brussel', 'confer', 'urlplacehold'], ['barclay', 'ceo', 'stress', 'the', 'import', 'of', 'regulatori', 'and', 'cultur', 'reform', 'in', 'financi', 'servic', 'at', 'brussel', 'confer', 'urlplacehold'], ['barclay', 'ceo', 'stress', 'the', 'import', 'of', 'regulatori', 'and', 'cultur', 'reform', 'in', 'financi', 'servic', 'at', 'brussel', 'confer', 'urlplacehold']] \n",
      "\n",
      "Barclays announces result of Rights Issue http://t.co/LbIqqh3wwG\n",
      "[['barclay', 'announc', 'result', 'of', 'right', 'issu', 'urlplacehold'], ['barclay', 'announc', 'result', 'of', 'right', 'issu', 'urlplacehold'], ['barclay', 'announc', 'result', 'of', 'right', 'issu', 'urlplacehold'], ['barclay', 'announc', 'result', 'of', 'right', 'issu', 'urlplacehold'], ['barclay', 'announc', 'result', 'of', 'right', 'issu', 'urlplacehold'], ['barclay', 'announc', 'result', 'of', 'right', 'issu', 'urlplacehold'], ['barclay', 'announc', 'result', 'of', 'right', 'issu', 'urlplacehold']] \n",
      "\n",
      "Barclays publishes its prospectus for its å£5.8bn Rights Issue: http://t.co/YZk24iE8G6\n",
      "[['barclay', 'publish', 'it', 'prospectu', 'for', 'it', 'å£5.8bn', 'right', 'issu', ':', 'urlplacehold'], ['barclay', 'publish', 'it', 'prospectu', 'for', 'it', 'å£5.8bn', 'right', 'issu', ':', 'urlplacehold'], ['barclay', 'publish', 'it', 'prospectu', 'for', 'it', 'å£5.8bn', 'right', 'issu', ':', 'urlplacehold'], ['barclay', 'publish', 'it', 'prospectu', 'for', 'it', 'å£5.8bn', 'right', 'issu', ':', 'urlplacehold'], ['barclay', 'publish', 'it', 'prospectu', 'for', 'it', 'å£5.8bn', 'right', 'issu', ':', 'urlplacehold'], ['barclay', 'publish', 'it', 'prospectu', 'for', 'it', 'å£5.8bn', 'right', 'issu', ':', 'urlplacehold'], ['barclay', 'publish', 'it', 'prospectu', 'for', 'it', 'å£5.8bn', 'right', 'issu', ':', 'urlplacehold'], ['barclay', 'publish', 'it', 'prospectu', 'for', 'it', 'å£5.8bn', 'right', 'issu', ':', 'urlplacehold'], ['barclay', 'publish', 'it', 'prospectu', 'for', 'it', 'å£5.8bn', 'right', 'issu', ':', 'urlplacehold'], ['barclay', 'publish', 'it', 'prospectu', 'for', 'it', 'å£5.8bn', 'right', 'issu', ':', 'urlplacehold'], ['barclay', 'publish', 'it', 'prospectu', 'for', 'it', 'å£5.8bn', 'right', 'issu', ':', 'urlplacehold']] \n",
      "\n",
      "Barclays Group Finance Director Chris Lucas is to step down at the end of the week due to ill health http://t.co/nkuHoAfnSD\n",
      "[['barclay', 'group', 'financ', 'director', 'chri', 'luca', 'is', 'to', 'step', 'down', 'at', 'the', 'end', 'of', 'the', 'week', 'due', 'to', 'ill', 'health', 'urlplacehold'], ['barclay', 'group', 'financ', 'director', 'chri', 'luca', 'is', 'to', 'step', 'down', 'at', 'the', 'end', 'of', 'the', 'week', 'due', 'to', 'ill', 'health', 'urlplacehold'], ['barclay', 'group', 'financ', 'director', 'chri', 'luca', 'is', 'to', 'step', 'down', 'at', 'the', 'end', 'of', 'the', 'week', 'due', 'to', 'ill', 'health', 'urlplacehold'], ['barclay', 'group', 'financ', 'director', 'chri', 'luca', 'is', 'to', 'step', 'down', 'at', 'the', 'end', 'of', 'the', 'week', 'due', 'to', 'ill', 'health', 'urlplacehold'], ['barclay', 'group', 'financ', 'director', 'chri', 'luca', 'is', 'to', 'step', 'down', 'at', 'the', 'end', 'of', 'the', 'week', 'due', 'to', 'ill', 'health', 'urlplacehold'], ['barclay', 'group', 'financ', 'director', 'chri', 'luca', 'is', 'to', 'step', 'down', 'at', 'the', 'end', 'of', 'the', 'week', 'due', 'to', 'ill', 'health', 'urlplacehold'], ['barclay', 'group', 'financ', 'director', 'chri', 'luca', 'is', 'to', 'step', 'down', 'at', 'the', 'end', 'of', 'the', 'week', 'due', 'to', 'ill', 'health', 'urlplacehold'], ['barclay', 'group', 'financ', 'director', 'chri', 'luca', 'is', 'to', 'step', 'down', 'at', 'the', 'end', 'of', 'the', 'week', 'due', 'to', 'ill', 'health', 'urlplacehold'], ['barclay', 'group', 'financ', 'director', 'chri', 'luca', 'is', 'to', 'step', 'down', 'at', 'the', 'end', 'of', 'the', 'week', 'due', 'to', 'ill', 'health', 'urlplacehold'], ['barclay', 'group', 'financ', 'director', 'chri', 'luca', 'is', 'to', 'step', 'down', 'at', 'the', 'end', 'of', 'the', 'week', 'due', 'to', 'ill', 'health', 'urlplacehold'], ['barclay', 'group', 'financ', 'director', 'chri', 'luca', 'is', 'to', 'step', 'down', 'at', 'the', 'end', 'of', 'the', 'week', 'due', 'to', 'ill', 'health', 'urlplacehold'], ['barclay', 'group', 'financ', 'director', 'chri', 'luca', 'is', 'to', 'step', 'down', 'at', 'the', 'end', 'of', 'the', 'week', 'due', 'to', 'ill', 'health', 'urlplacehold'], ['barclay', 'group', 'financ', 'director', 'chri', 'luca', 'is', 'to', 'step', 'down', 'at', 'the', 'end', 'of', 'the', 'week', 'due', 'to', 'ill', 'health', 'urlplacehold'], ['barclay', 'group', 'financ', 'director', 'chri', 'luca', 'is', 'to', 'step', 'down', 'at', 'the', 'end', 'of', 'the', 'week', 'due', 'to', 'ill', 'health', 'urlplacehold'], ['barclay', 'group', 'financ', 'director', 'chri', 'luca', 'is', 'to', 'step', 'down', 'at', 'the', 'end', 'of', 'the', 'week', 'due', 'to', 'ill', 'health', 'urlplacehold'], ['barclay', 'group', 'financ', 'director', 'chri', 'luca', 'is', 'to', 'step', 'down', 'at', 'the', 'end', 'of', 'the', 'week', 'due', 'to', 'ill', 'health', 'urlplacehold'], ['barclay', 'group', 'financ', 'director', 'chri', 'luca', 'is', 'to', 'step', 'down', 'at', 'the', 'end', 'of', 'the', 'week', 'due', 'to', 'ill', 'health', 'urlplacehold'], ['barclay', 'group', 'financ', 'director', 'chri', 'luca', 'is', 'to', 'step', 'down', 'at', 'the', 'end', 'of', 'the', 'week', 'due', 'to', 'ill', 'health', 'urlplacehold'], ['barclay', 'group', 'financ', 'director', 'chri', 'luca', 'is', 'to', 'step', 'down', 'at', 'the', 'end', 'of', 'the', 'week', 'due', 'to', 'ill', 'health', 'urlplacehold'], ['barclay', 'group', 'financ', 'director', 'chri', 'luca', 'is', 'to', 'step', 'down', 'at', 'the', 'end', 'of', 'the', 'week', 'due', 'to', 'ill', 'health', 'urlplacehold'], ['barclay', 'group', 'financ', 'director', 'chri', 'luca', 'is', 'to', 'step', 'down', 'at', 'the', 'end', 'of', 'the', 'week', 'due', 'to', 'ill', 'health', 'urlplacehold']] \n",
      "\n",
      "Barclays announces that Irene McDermott Brown has been appointed as Group Human Resources Director http://t.co/c3fNGY6NMT\n",
      "[['barclay', 'announc', 'that', 'iren', 'mcdermott', 'brown', 'ha', 'been', 'appoint', 'a', 'group', 'human', 'resourc', 'director', 'urlplacehold'], ['barclay', 'announc', 'that', 'iren', 'mcdermott', 'brown', 'ha', 'been', 'appoint', 'a', 'group', 'human', 'resourc', 'director', 'urlplacehold'], ['barclay', 'announc', 'that', 'iren', 'mcdermott', 'brown', 'ha', 'been', 'appoint', 'a', 'group', 'human', 'resourc', 'director', 'urlplacehold'], ['barclay', 'announc', 'that', 'iren', 'mcdermott', 'brown', 'ha', 'been', 'appoint', 'a', 'group', 'human', 'resourc', 'director', 'urlplacehold'], ['barclay', 'announc', 'that', 'iren', 'mcdermott', 'brown', 'ha', 'been', 'appoint', 'a', 'group', 'human', 'resourc', 'director', 'urlplacehold'], ['barclay', 'announc', 'that', 'iren', 'mcdermott', 'brown', 'ha', 'been', 'appoint', 'a', 'group', 'human', 'resourc', 'director', 'urlplacehold'], ['barclay', 'announc', 'that', 'iren', 'mcdermott', 'brown', 'ha', 'been', 'appoint', 'a', 'group', 'human', 'resourc', 'director', 'urlplacehold'], ['barclay', 'announc', 'that', 'iren', 'mcdermott', 'brown', 'ha', 'been', 'appoint', 'a', 'group', 'human', 'resourc', 'director', 'urlplacehold'], ['barclay', 'announc', 'that', 'iren', 'mcdermott', 'brown', 'ha', 'been', 'appoint', 'a', 'group', 'human', 'resourc', 'director', 'urlplacehold'], ['barclay', 'announc', 'that', 'iren', 'mcdermott', 'brown', 'ha', 'been', 'appoint', 'a', 'group', 'human', 'resourc', 'director', 'urlplacehold'], ['barclay', 'announc', 'that', 'iren', 'mcdermott', 'brown', 'ha', 'been', 'appoint', 'a', 'group', 'human', 'resourc', 'director', 'urlplacehold'], ['barclay', 'announc', 'that', 'iren', 'mcdermott', 'brown', 'ha', 'been', 'appoint', 'a', 'group', 'human', 'resourc', 'director', 'urlplacehold'], ['barclay', 'announc', 'that', 'iren', 'mcdermott', 'brown', 'ha', 'been', 'appoint', 'a', 'group', 'human', 'resourc', 'director', 'urlplacehold'], ['barclay', 'announc', 'that', 'iren', 'mcdermott', 'brown', 'ha', 'been', 'appoint', 'a', 'group', 'human', 'resourc', 'director', 'urlplacehold'], ['barclay', 'announc', 'that', 'iren', 'mcdermott', 'brown', 'ha', 'been', 'appoint', 'a', 'group', 'human', 'resourc', 'director', 'urlplacehold']] \n",
      "\n"
     ]
    }
   ],
   "source": [
    "# test out function\n",
    "X, y = load_data()\n",
    "for message in X[:5]:\n",
    "    tokens = tokenize(message)\n",
    "    print(message)\n",
    "    print(tokens, '\\n')"
   ]
  },
  {
   "cell_type": "code",
   "execution_count": null,
   "metadata": {},
   "outputs": [],
   "source": []
  }
 ],
 "metadata": {
  "kernelspec": {
   "display_name": "Python 3",
   "language": "python",
   "name": "python3"
  },
  "language_info": {
   "codemirror_mode": {
    "name": "ipython",
    "version": 3
   },
   "file_extension": ".py",
   "mimetype": "text/x-python",
   "name": "python",
   "nbconvert_exporter": "python",
   "pygments_lexer": "ipython3",
   "version": "3.7.3"
  }
 },
 "nbformat": 4,
 "nbformat_minor": 2
}
